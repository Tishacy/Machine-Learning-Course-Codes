{
 "cells": [
  {
   "cell_type": "code",
   "execution_count": 1,
   "metadata": {},
   "outputs": [],
   "source": [
    "import tensorflow.examples.tutorials.mnist.input_data as input_data\n",
    "import neuralnetwork as nn\n",
    "import numpy as np\n",
    "import matplotlib.pyplot as plt"
   ]
  },
  {
   "cell_type": "code",
   "execution_count": 2,
   "metadata": {
    "scrolled": true
   },
   "outputs": [
    {
     "name": "stdout",
     "output_type": "stream",
     "text": [
      "WARNING:tensorflow:From <ipython-input-2-319879c4c296>:1: read_data_sets (from tensorflow.contrib.learn.python.learn.datasets.mnist) is deprecated and will be removed in a future version.\n",
      "Instructions for updating:\n",
      "Please use alternatives such as official/mnist/dataset.py from tensorflow/models.\n",
      "WARNING:tensorflow:From /home/tishacy/.local/lib/python3.6/site-packages/tensorflow/contrib/learn/python/learn/datasets/mnist.py:260: maybe_download (from tensorflow.contrib.learn.python.learn.datasets.base) is deprecated and will be removed in a future version.\n",
      "Instructions for updating:\n",
      "Please write your own downloading logic.\n",
      "WARNING:tensorflow:From /home/tishacy/.local/lib/python3.6/site-packages/tensorflow/contrib/learn/python/learn/datasets/mnist.py:262: extract_images (from tensorflow.contrib.learn.python.learn.datasets.mnist) is deprecated and will be removed in a future version.\n",
      "Instructions for updating:\n",
      "Please use tf.data to implement this functionality.\n",
      "Extracting MNIST_data/train-images-idx3-ubyte.gz\n",
      "WARNING:tensorflow:From /home/tishacy/.local/lib/python3.6/site-packages/tensorflow/contrib/learn/python/learn/datasets/mnist.py:267: extract_labels (from tensorflow.contrib.learn.python.learn.datasets.mnist) is deprecated and will be removed in a future version.\n",
      "Instructions for updating:\n",
      "Please use tf.data to implement this functionality.\n",
      "Extracting MNIST_data/train-labels-idx1-ubyte.gz\n",
      "WARNING:tensorflow:From /home/tishacy/.local/lib/python3.6/site-packages/tensorflow/contrib/learn/python/learn/datasets/mnist.py:110: dense_to_one_hot (from tensorflow.contrib.learn.python.learn.datasets.mnist) is deprecated and will be removed in a future version.\n",
      "Instructions for updating:\n",
      "Please use tf.one_hot on tensors.\n",
      "Extracting MNIST_data/t10k-images-idx3-ubyte.gz\n",
      "Extracting MNIST_data/t10k-labels-idx1-ubyte.gz\n",
      "WARNING:tensorflow:From /home/tishacy/.local/lib/python3.6/site-packages/tensorflow/contrib/learn/python/learn/datasets/mnist.py:290: DataSet.__init__ (from tensorflow.contrib.learn.python.learn.datasets.mnist) is deprecated and will be removed in a future version.\n",
      "Instructions for updating:\n",
      "Please use alternatives such as official/mnist/dataset.py from tensorflow/models.\n"
     ]
    }
   ],
   "source": [
    "mnist = input_data.read_data_sets('MNIST_data/', one_hot=True)"
   ]
  },
  {
   "cell_type": "code",
   "execution_count": 3,
   "metadata": {},
   "outputs": [
    {
     "data": {
      "text/plain": [
       "array([3, 7])"
      ]
     },
     "execution_count": 3,
     "metadata": {},
     "output_type": "execute_result"
    }
   ],
   "source": [
    "a = np.array([[1,2],[3,4]])\n",
    "np.sum(a, axis=1)"
   ]
  },
  {
   "cell_type": "code",
   "execution_count": 149,
   "metadata": {
    "scrolled": true
   },
   "outputs": [
    {
     "name": "stdout",
     "output_type": "stream",
     "text": [
      "===== Running Gradient Descent Algorithm with Back Propagation =====\n",
      "    step: 0, J: 8.402873, α: 0.000010\n",
      "    step: 5, J: 4.794928, α: 0.000010\n",
      "    step: 10, J: 3.850861, α: 0.000010\n",
      "    step: 15, J: 3.543796, α: 0.000010\n",
      "    step: 20, J: 3.414976, α: 0.000010\n",
      "    step: 25, J: 3.351066, α: 0.000010\n",
      "    step: 30, J: 3.315678, α: 0.000010\n",
      "    step: 35, J: 3.294577, α: 0.000010\n",
      "    step: 40, J: 3.281258, α: 0.000010\n",
      "    step: 45, J: 3.272416, α: 0.000010\n",
      "    step: 50, J: 3.266268, α: 0.000010\n",
      "    step: 55, J: 3.261797, α: 0.000010\n",
      "    step: 60, J: 3.258396, α: 0.000010\n",
      "    step: 65, J: 3.255688, α: 0.000010\n",
      "    step: 70, J: 3.253435, α: 0.000010\n",
      "    step: 75, J: 3.251480, α: 0.000010\n",
      "    step: 80, J: 3.249719, α: 0.000010\n",
      "    step: 85, J: 3.248075, α: 0.000010\n",
      "    step: 90, J: 3.246492, α: 0.000010\n",
      "    step: 95, J: 3.244925, α: 0.000010\n",
      "    step: 100, J: 3.243335, α: 0.000010\n",
      "    step: 105, J: 3.241683, α: 0.000010\n",
      "    step: 110, J: 3.239934, α: 0.000010\n",
      "    step: 115, J: 3.238048, α: 0.000010\n",
      "    step: 120, J: 3.235981, α: 0.000010\n",
      "    step: 125, J: 3.233680, α: 0.000010\n",
      "    step: 130, J: 3.231082, α: 0.000010\n",
      "    step: 135, J: 3.228105, α: 0.000010\n",
      "    step: 140, J: 3.224650, α: 0.000010\n",
      "    step: 145, J: 3.220596, α: 0.000010\n",
      "    step: 150, J: 3.215808, α: 0.000010\n",
      "    step: 155, J: 3.210149, α: 0.000010\n",
      "    step: 160, J: 3.203507, α: 0.000010\n",
      "    step: 165, J: 3.195800, α: 0.000010\n",
      "    step: 170, J: 3.187034, α: 0.000010\n",
      "    step: 175, J: 3.177406, α: 0.000010\n",
      "    step: 180, J: 3.167355, α: 0.000010\n",
      "    step: 185, J: 3.157386, α: 0.000010\n",
      "    step: 190, J: 3.147765, α: 0.000010\n",
      "    step: 195, J: 3.138517, α: 0.000010\n",
      "    step: 200, J: 3.129608, α: 0.000010\n",
      "    step: 205, J: 3.121016, α: 0.000010\n",
      "    step: 210, J: 3.112729, α: 0.000010\n",
      "    step: 215, J: 3.104730, α: 0.000010\n",
      "    step: 220, J: 3.097007, α: 0.000010\n",
      "    step: 225, J: 3.089548, α: 0.000010\n",
      "    step: 230, J: 3.082344, α: 0.000010\n",
      "    step: 235, J: 3.075389, α: 0.000010\n",
      "    step: 240, J: 3.068670, α: 0.000010\n",
      "    step: 245, J: 3.062175, α: 0.000010\n",
      "    step: 250, J: 3.055889, α: 0.000010\n",
      "    step: 255, J: 3.049799, α: 0.000010\n",
      "    step: 260, J: 3.043894, α: 0.000010\n",
      "    step: 265, J: 3.038162, α: 0.000010\n",
      "    step: 270, J: 3.032596, α: 0.000010\n",
      "    step: 275, J: 3.027190, α: 0.000010\n",
      "    step: 280, J: 3.021936, α: 0.000010\n",
      "    step: 285, J: 3.016832, α: 0.000010\n",
      "    step: 290, J: 3.011873, α: 0.000010\n",
      "    step: 295, J: 3.007054, α: 0.000010\n",
      "    step: 300, J: 3.002372, α: 0.000010\n",
      "    step: 305, J: 2.997820, α: 0.000010\n",
      "    step: 310, J: 2.993395, α: 0.000010\n",
      "    step: 315, J: 2.989090, α: 0.000010\n",
      "    step: 320, J: 2.984902, α: 0.000010\n",
      "    step: 325, J: 2.980824, α: 0.000010\n",
      "    step: 330, J: 2.976851, α: 0.000010\n",
      "    step: 335, J: 2.972979, α: 0.000010\n",
      "    step: 340, J: 2.969203, α: 0.000010\n",
      "    step: 345, J: 2.965516, α: 0.000010\n",
      "    step: 350, J: 2.961916, α: 0.000010\n",
      "    step: 355, J: 2.958397, α: 0.000010\n",
      "    step: 360, J: 2.954954, α: 0.000010\n",
      "    step: 365, J: 2.951584, α: 0.000010\n",
      "    step: 370, J: 2.948282, α: 0.000010\n",
      "    step: 375, J: 2.945044, α: 0.000010\n",
      "    step: 380, J: 2.941866, α: 0.000010\n",
      "    step: 385, J: 2.938744, α: 0.000010\n",
      "    step: 390, J: 2.935676, α: 0.000010\n",
      "    step: 395, J: 2.932658, α: 0.000010\n",
      "    step: 400, J: 2.929687, α: 0.000010\n",
      "    step: 405, J: 2.926762, α: 0.000010\n",
      "    step: 410, J: 2.923880, α: 0.000010\n",
      "    step: 415, J: 2.921039, α: 0.000010\n",
      "    step: 420, J: 2.918237, α: 0.000010\n",
      "    step: 425, J: 2.915472, α: 0.000010\n",
      "    step: 430, J: 2.912743, α: 0.000010\n",
      "    step: 435, J: 2.910045, α: 0.000010\n",
      "    step: 440, J: 2.907378, α: 0.000010\n",
      "    step: 445, J: 2.904739, α: 0.000010\n",
      "    step: 450, J: 2.902126, α: 0.000010\n",
      "    step: 455, J: 2.899535, α: 0.000010\n",
      "    step: 460, J: 2.896966, α: 0.000010\n",
      "    step: 465, J: 2.894416, α: 0.000010\n",
      "    step: 470, J: 2.891883, α: 0.000010\n",
      "    step: 475, J: 2.889366, α: 0.000010\n",
      "    step: 480, J: 2.886864, α: 0.000010\n",
      "    step: 485, J: 2.884377, α: 0.000010\n",
      "    step: 490, J: 2.881903, α: 0.000010\n",
      "    step: 495, J: 2.879443, α: 0.000010\n",
      "===== Fitting Over =====\n",
      "    J = 2.876997\n",
      "    steps = 500\n"
     ]
    }
   ],
   "source": [
    "a = nn.NeuralNetwork(784, 1, 1, 10)\n",
    "X, Y = mnist.train.images, mnist.train.labels\n",
    "Theta, steps, Js = a.gradient_descent(X, Y, a.ini_Theta, alpha=0.00001, lamda=0, max_step=500)"
   ]
  },
  {
   "cell_type": "code",
   "execution_count": 143,
   "metadata": {},
   "outputs": [
    {
     "data": {
      "image/png": "[encoded data removed]",
      "text/plain": [
       "<Figure size 432x360 with 1 Axes>"
      ]
     },
     "metadata": {
      "needs_background": "light"
     },
     "output_type": "display_data"
    }
   ],
   "source": [
    "plt.figure(figsize=(6, 5))\n",
    "plt.plot(steps, Js, color='k', linewidth=3, label='Loss values')\n",
    "plt.xlabel('steps', fontsize=14)\n",
    "plt.ylabel('loss', fontsize=14)\n",
    "plt.legend(fontsize=13)\n",
    "plt.show()"
   ]
  },
  {
   "cell_type": "code",
   "execution_count": 144,
   "metadata": {},
   "outputs": [
    {
     "name": "stdout",
     "output_type": "stream",
     "text": [
      "0.1135\n"
     ]
    }
   ],
   "source": [
    "count = 0\n",
    "for i in range(mnist.test.num_examples):\n",
    "    image = mnist.test.images[i]\n",
    "    label = np.argmax(mnist.test.labels[i])\n",
    "    if np.argmax(a.forward_propagation(image.reshape(1, 784), Theta)[0]) == label:\n",
    "        count += 1\n",
    "print(count / mnist.test.num_examples)"
   ]
  },
  {
   "cell_type": "code",
   "execution_count": 148,
   "metadata": {},
   "outputs": [
    {
     "name": "stdout",
     "output_type": "stream",
     "text": [
      "预测为: 1 [[ 0.09890847  0.11233531  0.09946767  0.10252591  0.09648315  0.09066453\n",
      "   0.09846581  0.10387437  0.09798722  0.09916919]]\n",
      "实际为: 4\n"
     ]
    },
    {
     "data": {
      "image/png": "[encoded data removed]",
      "text/plain": [
       "<Figure size 432x288 with 1 Axes>"
      ]
     },
     "metadata": {
      "needs_background": "light"
     },
     "output_type": "display_data"
    }
   ],
   "source": [
    "rand_index = np.random.randint(mnist.test.num_examples)\n",
    "image = mnist.test.images[rand_index]\n",
    "plt.imshow(image.reshape(28, 28), cmap='binary')\n",
    "h, A = a.forward_propagation(image.reshape(1, 784), Theta)\n",
    "print(\"预测为:\", np.argmax(h), h)\n",
    "print(\"实际为:\", np.argmax(mnist.test.labels[rand_index]))"
   ]
  },
  {
   "cell_type": "code",
   "execution_count": 88,
   "metadata": {},
   "outputs": [],
   "source": [
    "import tensorflow as tf"
   ]
  },
  {
   "cell_type": "code",
   "execution_count": 108,
   "metadata": {
    "scrolled": true
   },
   "outputs": [
    {
     "name": "stdout",
     "output_type": "stream",
     "text": [
      "step:  0, loss:3.1601\n",
      "step: 50, loss:1.5264\n",
      "step: 100, loss:1.0128\n",
      "step: 150, loss:1.1585\n",
      "step: 200, loss:0.8204\n",
      "step: 250, loss:0.7007\n",
      "step: 300, loss:1.1125\n",
      "step: 350, loss:0.7321\n",
      "step: 400, loss:0.7770\n",
      "step: 450, loss:0.6532\n",
      "step: 500, loss:0.8347\n",
      "step: 550, loss:0.7011\n",
      "step: 600, loss:0.5439\n",
      "step: 650, loss:0.6819\n",
      "step: 700, loss:0.7151\n",
      "step: 750, loss:0.5491\n",
      "step: 800, loss:0.6455\n",
      "step: 850, loss:0.6201\n",
      "step: 900, loss:0.6422\n",
      "step: 950, loss:0.5701\n"
     ]
    }
   ],
   "source": [
    "x = tf.placeholder(tf.float32, [None, 784])\n",
    "y_ = tf.placeholder(tf.float32, [None, 10])\n",
    "w = tf.Variable(tf.zeros([784, 10]))\n",
    "b = tf.Variable(tf.zeros([10]))\n",
    "pred = tf.nn.softmax(tf.matmul(x, w) + b)\n",
    "loss = tf.reduce_mean(-tf.reduce_sum(y_ * tf.log(pred) + (1-y_) * tf.log(1-pred),\n",
    "                                     reduction_indices=[1]))\n",
    "optimizer = tf.train.GradientDescentOptimizer(0.05).minimize(loss)\n",
    "init = tf.global_variables_initializer()\n",
    "\n",
    "with tf.Session() as sess:\n",
    "    sess.run(init)\n",
    "    steps, loss_vals = [], []\n",
    "    for i in range(1000):\n",
    "        xs, ys = mnist.train.next_batch(100)\n",
    "        sess.run(optimizer, feed_dict={x: xs, y_: ys})\n",
    "        steps.append(i)\n",
    "        loss_vals.append(sess.run(loss, {x: xs, y_: ys}))\n",
    "        if i%50 == 0:\n",
    "            print(\"step: %2d, loss:%.4f\" %(i, loss_vals[-1]))\n",
    "    w_mat, b_vec = sess.run([w, b])"
   ]
  },
  {
   "cell_type": "code",
   "execution_count": 109,
   "metadata": {},
   "outputs": [
    {
     "data": {
      "image/png": "[encoded data removed]",
      "text/plain": [
       "<Figure size 432x360 with 1 Axes>"
      ]
     },
     "metadata": {
      "needs_background": "light"
     },
     "output_type": "display_data"
    }
   ],
   "source": [
    "plt.figure(figsize=(6, 5))\n",
    "plt.plot(steps, loss_vals, color='k', linewidth=3, label='Loss values')\n",
    "plt.xlabel('steps', fontsize=14)\n",
    "plt.ylabel('loss', fontsize=14)\n",
    "plt.legend(fontsize=13)\n",
    "plt.show()"
   ]
  },
  {
   "cell_type": "code",
   "execution_count": 92,
   "metadata": {},
   "outputs": [],
   "source": [
    "def forward_propagation(x):\n",
    "    return np.argmax(np.matmul(x, w_mat) + b_vec)"
   ]
  },
  {
   "cell_type": "code",
   "execution_count": 110,
   "metadata": {},
   "outputs": [
    {
     "name": "stdout",
     "output_type": "stream",
     "text": [
      "0.9074\n"
     ]
    }
   ],
   "source": [
    "count = 0\n",
    "for i in range(mnist.test.num_examples):\n",
    "    image = mnist.test.images[i]\n",
    "    label = np.argmax(mnist.test.labels[i])\n",
    "    if forward_propagation(image) == label:\n",
    "        count += 1\n",
    "print(count / mnist.test.num_examples)"
   ]
  },
  {
   "cell_type": "code",
   "execution_count": 156,
   "metadata": {},
   "outputs": [
    {
     "name": "stdout",
     "output_type": "stream",
     "text": [
      "预测为: 4\n",
      "实际为: 4\n"
     ]
    },
    {
     "data": {
      "image/png": "[encoded data removed]",
      "text/plain": [
       "<Figure size 432x288 with 1 Axes>"
      ]
     },
     "metadata": {
      "needs_background": "light"
     },
     "output_type": "display_data"
    }
   ],
   "source": [
    "rand_index = np.random.randint(mnist.test.num_examples)\n",
    "image = mnist.test.images[rand_index]\n",
    "plt.imshow(image.reshape(28, 28), cmap='binary')\n",
    "print(\"预测为:\", forward_propagation(image))\n",
    "print(\"实际为:\", np.argmax(mnist.test.labels[rand_index]))"
   ]
  },
  {
   "cell_type": "code",
   "execution_count": null,
   "metadata": {},
   "outputs": [],
   "source": []
  },
  {
   "cell_type": "code",
   "execution_count": null,
   "metadata": {},
   "outputs": [],
   "source": []
  }
 ],
 "metadata": {
  "kernelspec": {
   "display_name": "Python 3",
   "language": "python",
   "name": "python3"
  },
  "language_info": {
   "codemirror_mode": {
    "name": "ipython",
    "version": 3
   },
   "file_extension": ".py",
   "mimetype": "text/x-python",
   "name": "python",
   "nbconvert_exporter": "python",
   "pygments_lexer": "ipython3",
   "version": "3.6.7"
  }
 },
 "nbformat": 4,
 "nbformat_minor": 2
}
